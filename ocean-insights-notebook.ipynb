{
 "cells": [
  {
   "cell_type": "markdown",
   "metadata": {},
   "source": [
    "# Final project description: Ocean Insights"
   ]
  },
  {
   "cell_type": "markdown",
   "metadata": {},
   "source": [
    "For my final project I created a program for users (beach-goers) to effectevly plan their beach activities (surfing, swimming, diving / scuba, snorkeling, kayaking ) based on ocean data. Ocean data is sythesized by combination of tide / water levels data and Meteorological Data. Ocean data is from the API provided by the National Oceanic and Atmospheric Administration [Tide and Currents API](https://api.tidesandcurrents.noaa.gov/api/prod/) \n",
    "\n",
    "For this projects, my valid roles / asserts for the user imput would be activites connected to the API data. In order to run this code, for the user persona of a beginner surfer in Florida, change directories into the directory containing function.py and classes.py in your terminal and run python functions.py.\n",
    "\n",
    "The use personas this program is designed for is surfers, kayakers/paddleboarders and scuba divers. To make this possible I decided to build my code by creating a class called `Station` that would take in the parameters specific to location of the station. \n",
    "\n",
    "I created __six methods__ within the `Station` that provide key metrics and advice to people looking to beach at that station:\n",
    "\n",
    "* `go_to_beach` : Provides for the user persona based on tide conditions. Specific advice is outputed to the specific role aftet tide direction and height is checked. \n",
    "\n",
    "\n",
    "* `fetch_tide_data` : Tide data is fetched from API using the station id. Tide direction (rising or falling) and average tide height is computed. DataFrame showing tide data is outputed. \n",
    "\n",
    "\n",
    "* `combine_data` : combine data sources for wind data and tide data (same time inerval for both), results would be an attribute. This functions needs to be run before any other methods for the different users is run.  \n",
    "\n",
    "\n",
    "* `surfer_skill_level`: Provides advice for surfers based on their skill level and wind conditions. It checks the wind speed and the surfer's skill level and returns applicable advice.\n",
    "\n",
    "\n",
    "* `fetch_water_temperature`: Uses API to fetch water temp and computes the water temp average. Based on this data, it determines that water quality to be Clear\" or \"Murky\" based on a temp threshold.\n",
    "\n",
    "\n",
    "* `fetch_water_level_summary`: Computes summary stats (e.g., mean, min, max) of water levels from the combined data. This is then shown to the user in summary DataFrame.\n",
    "\n",
    "\n",
    "__Inspiration__: This project was orginally sparked from [Mingson Leung's](https://github.com/mingsonleung/terminal-weather-app/) project that was shown in class. As somebody who loves the beach, I want to create something that would be useful for other individual that also love to the beach and ocean activities based on real data from the API. \n",
    "\n"
   ]
  },
  {
   "cell_type": "markdown",
   "metadata": {},
   "source": [
    "## Project Code\n",
    "\n",
    "If it makes sense for your project, you can have code and outputs here in the notebook as well."
   ]
  },
  {
   "cell_type": "code",
   "execution_count": 64,
   "metadata": {
    "scrolled": true
   },
   "outputs": [],
   "source": [
    "from my_module.functions import *\n",
    "from my_module.classes import *"
   ]
  },
  {
   "cell_type": "code",
   "execution_count": 65,
   "metadata": {},
   "outputs": [],
   "source": [
    "import requests\n",
    "import pandas as pd"
   ]
  },
  {
   "cell_type": "code",
   "execution_count": 78,
   "metadata": {},
   "outputs": [],
   "source": [
    "# station represents where ocean data is being monitored, like what specific beach etc. \n",
    "\n",
    "\n",
    "import requests\n",
    "import pandas as pd\n",
    "\n",
    "class Station:\n",
    "    \n",
    "    def __init__(self, station_id=8724580):\n",
    "        \n",
    "        # Floria (default)\n",
    "        self.station_id = station_id\n",
    "        self.tide_height = None\n",
    "        self.tide_direction = None\n",
    "        self.wind = None\n",
    "        self.water_temperature = None\n",
    "        \n",
    "        # Get tide data and Combine data sources\n",
    "        self.tide_data = self.fetch_tide_data()\n",
    "        self.combined_data = self.combine_data()\n",
    "       \n",
    "    def fetch_tide_data(self):\n",
    "        \n",
    "        # Fetch tide data from the API\n",
    "        request = requests.get(f'https://api.tidesandcurrents.noaa.gov/api/prod/datagetter?begin_date=20240609&end_date=20240609&station={self.station_id}&product=water_level&datum=MLLW&time_zone=gmt&units=english&application=DataAPI_Sample&format=json')\n",
    "        tide_data = pd.DataFrame(request.json()['data'])[['t', 'v']]\n",
    "        tide_data.columns = ['time', 'water_level']\n",
    "\n",
    "        # Extract tide height and direction\n",
    "        tide_data['water_level'] = tide_data['water_level'].astype(float)\n",
    "        self.tide_height = tide_data['water_level'].mean()\n",
    "        temp = tide_data['water_level'].iloc[int(len(tide_data) / 2)] - tide_data['water_level'].iloc[0]\n",
    "        \n",
    "        if temp > 0:\n",
    "            self.tide_direction = 'Rising' \n",
    "            \n",
    "        if temp <= 0:\n",
    "            self.tide_direction = 'Falling'\n",
    "     \n",
    "        return tide_data\n",
    "            \n",
    "   \n",
    "    def combine_data(self):\n",
    "        \n",
    "        # Fetch wind data\n",
    "        wind_request = requests.get(f'https://api.tidesandcurrents.noaa.gov/api/prod/datagetter?begin_date=20240609&end_date=20240609&&station={self.station_id}&product=wind&time_zone=lst_ldt&units=english&interval=m&application=DataAPI_Sample&format=json')\n",
    "        wind_data = pd.DataFrame(wind_request.json()['data'])[['t', 's']]\n",
    "        wind_data.columns = ['time', 'wind_speed']\n",
    "        wind_data['wind_speed'] = wind_data['wind_speed'].astype(float)\n",
    "\n",
    "        \n",
    "        temp = wind_data['wind_speed'].mean()\n",
    "        if temp > 4:\n",
    "            self.wind = 'Windy' \n",
    "            \n",
    "        if temp <= 4:\n",
    "            self.wind = 'Not windy'\n",
    "\n",
    "        \n",
    "        # Combine data sources\n",
    "        return pd.merge(self.tide_data, wind_data, on='time', how='left')\n",
    "\n",
    "     \n",
    "    def go_to_beach(self, role='surfer'):\n",
    "        \n",
    "        '''\n",
    "        This function takes in a user persona and provides insight as \n",
    "        to whether or not this person may want to go to the beach\n",
    "        \n",
    "        params:\n",
    "            - role: The user persona \n",
    "        returns:\n",
    "            - A printed statement of advice for the user\n",
    "            \n",
    "        '''\n",
    "        \n",
    "        assert role.lower() in ['surfer', 'scuba diver', 'kayaker', 'paddle_boarder']\n",
    "\n",
    "        # These conditionals determine output based on the tide for each activity\n",
    "        if role == 'surfer':\n",
    "            \n",
    "            if self.tide_height > 3 and self.tide_direction == 'Rising':\n",
    "                return \"The tide is rising, which often leads to better waves. It's a good time to surf.\"\n",
    "            elif self.tide_height > 3 and self.tide_direction == 'Falling':\n",
    "                return \"The tide is falling. Wave conditions might change.\"\n",
    "            else:\n",
    "                return \"Tide conditions are not optimal for surfing right now.\"\n",
    "        \n",
    "        elif role == 'kayaker':\n",
    "            \n",
    "            if self.tide_height >= 2 and self.tide_height <= 4:\n",
    "                return \"Tide conditions are suitable for kayaking.\"\n",
    "            else:\n",
    "                return \"Tide conditions are not suitable for kayaking right now.\"\n",
    "        \n",
    "        elif role == 'paddle_boarder':\n",
    "            \n",
    "            if self.tide_height >= 1.5 and self.tide_height <= 3:\n",
    "                return \"Tide conditions are suitable for paddle boarding.\"\n",
    "            else:\n",
    "                return \"Tide conditions are not suitable for paddle boarding right now.\"\n",
    "        \n",
    "        elif role == 'scuba diver':\n",
    "            \n",
    "            if self.tide_height >= 3 and self.tide_height <= 5:\n",
    "                return \"Tide conditions are suitable for scuba diving.\"\n",
    "            else:\n",
    "                return \"Tide conditions are not suitable for scuba diving right now.\"\n",
    "            \n",
    "            \n",
    "    def surfer_skill_level(self, skill_level='beginner', wind='windy'):\n",
    "        \n",
    "        '''\n",
    "        This function provides advice for surfers based on their skill level and wind conditions\n",
    "        \n",
    "        params:\n",
    "            - skill_level: The surfer's skill level. Options are 'beginner', 'intermediate', or 'advanced'\n",
    "            - wind: Wind conditions. Options are 'windy' or 'not windy'\n",
    "        returns:\n",
    "            - A printed statement of advice for the surfer\n",
    "            \n",
    "        '''\n",
    "        \n",
    "        assert skill_level.lower() in ['beginner', 'intermediate', 'advanced']\n",
    "        assert self.wind.lower() in ['windy', 'not windy']\n",
    "        \n",
    "        if skill_level.lower() == 'beginner':\n",
    "            if self.wind.lower() == 'windy':\n",
    "                return \"As a beginner surfer, it's recommended to avoid surfing in windy conditions.\"\n",
    "            else:\n",
    "                return \"As a beginner surfer, you can enjoy surfing in calm conditions!\"\n",
    "        \n",
    "        elif skill_level.lower() == 'intermediate':\n",
    "            if self.wind.lower() == 'windy':\n",
    "                return \"Intermediate surfers can handle some wind!\"\n",
    "            else:\n",
    "                return \"Intermediate surfers can enjoy surfing in various conditions!\"\n",
    "        \n",
    "        elif skill_level.lower() == 'advanced':\n",
    "            if self.wind.lower() == 'windy':\n",
    "                return \"Advanced surfers have the skills to handle windy conditions, stay safe!\"\n",
    "            else:\n",
    "                return \"For advanced surfers, ideal surfing conditions have moderate winds or calm seas!\"\n",
    "            \n",
    "    def fetch_water_temperature(self):\n",
    "        \n",
    "        # Fetch water temps data from the API\n",
    "        water_temperature_request = requests.get(f'https://api.tidesandcurrents.noaa.gov/api/prod/datagetter?begin_date=20240609&end_date=20240609&&station={self.station_id}&product=water_temperature&datum=MLLW&time_zone=gmt&units=english&application=DataAPI_Sample&format=json')\n",
    "        temperature_data = pd.DataFrame(water_temperature_request.json()['data'])[['t', 'v']]\n",
    "        temperature_data.columns = ['time', 'temperature']\n",
    "        temperature_data['temperature'] = temperature_data['temperature'].astype(float)\n",
    "        \n",
    "        self.water_temperature = temperature_data['temperature'].mean()\n",
    "        water_quality = \"Clear\" if self.water_temperature > 75 else \"Murky\"\n",
    "        \n",
    "        return water_quality\n",
    "    \n",
    "    def fetch_water_level_summary(self):\n",
    "        \n",
    "        water_level_summary = self.combined_data['water_level'].describe()\n",
    "        \n",
    "        return water_level_summary"
   ]
  },
  {
   "cell_type": "code",
   "execution_count": null,
   "metadata": {},
   "outputs": [],
   "source": []
  },
  {
   "cell_type": "code",
   "execution_count": 79,
   "metadata": {},
   "outputs": [],
   "source": [
    "florida_station = Station()"
   ]
  },
  {
   "cell_type": "code",
   "execution_count": 84,
   "metadata": {},
   "outputs": [
    {
     "data": {
      "text/html": [
       "<div>\n",
       "<style scoped>\n",
       "    .dataframe tbody tr th:only-of-type {\n",
       "        vertical-align: middle;\n",
       "    }\n",
       "\n",
       "    .dataframe tbody tr th {\n",
       "        vertical-align: top;\n",
       "    }\n",
       "\n",
       "    .dataframe thead th {\n",
       "        text-align: right;\n",
       "    }\n",
       "</style>\n",
       "<table border=\"1\" class=\"dataframe\">\n",
       "  <thead>\n",
       "    <tr style=\"text-align: right;\">\n",
       "      <th></th>\n",
       "      <th>time</th>\n",
       "      <th>water_level</th>\n",
       "    </tr>\n",
       "  </thead>\n",
       "  <tbody>\n",
       "    <tr>\n",
       "      <th>0</th>\n",
       "      <td>2024-06-09 00:00</td>\n",
       "      <td>0.418</td>\n",
       "    </tr>\n",
       "    <tr>\n",
       "      <th>1</th>\n",
       "      <td>2024-06-09 00:06</td>\n",
       "      <td>0.431</td>\n",
       "    </tr>\n",
       "    <tr>\n",
       "      <th>2</th>\n",
       "      <td>2024-06-09 00:12</td>\n",
       "      <td>0.464</td>\n",
       "    </tr>\n",
       "    <tr>\n",
       "      <th>3</th>\n",
       "      <td>2024-06-09 00:18</td>\n",
       "      <td>0.487</td>\n",
       "    </tr>\n",
       "    <tr>\n",
       "      <th>4</th>\n",
       "      <td>2024-06-09 00:24</td>\n",
       "      <td>0.506</td>\n",
       "    </tr>\n",
       "    <tr>\n",
       "      <th>...</th>\n",
       "      <td>...</td>\n",
       "      <td>...</td>\n",
       "    </tr>\n",
       "    <tr>\n",
       "      <th>231</th>\n",
       "      <td>2024-06-09 23:06</td>\n",
       "      <td>0.188</td>\n",
       "    </tr>\n",
       "    <tr>\n",
       "      <th>232</th>\n",
       "      <td>2024-06-09 23:12</td>\n",
       "      <td>0.185</td>\n",
       "    </tr>\n",
       "    <tr>\n",
       "      <th>233</th>\n",
       "      <td>2024-06-09 23:18</td>\n",
       "      <td>0.175</td>\n",
       "    </tr>\n",
       "    <tr>\n",
       "      <th>234</th>\n",
       "      <td>2024-06-09 23:24</td>\n",
       "      <td>0.178</td>\n",
       "    </tr>\n",
       "    <tr>\n",
       "      <th>235</th>\n",
       "      <td>2024-06-09 23:30</td>\n",
       "      <td>0.178</td>\n",
       "    </tr>\n",
       "  </tbody>\n",
       "</table>\n",
       "<p>236 rows × 2 columns</p>\n",
       "</div>"
      ],
      "text/plain": [
       "                 time  water_level\n",
       "0    2024-06-09 00:00        0.418\n",
       "1    2024-06-09 00:06        0.431\n",
       "2    2024-06-09 00:12        0.464\n",
       "3    2024-06-09 00:18        0.487\n",
       "4    2024-06-09 00:24        0.506\n",
       "..                ...          ...\n",
       "231  2024-06-09 23:06        0.188\n",
       "232  2024-06-09 23:12        0.185\n",
       "233  2024-06-09 23:18        0.175\n",
       "234  2024-06-09 23:24        0.178\n",
       "235  2024-06-09 23:30        0.178\n",
       "\n",
       "[236 rows x 2 columns]"
      ]
     },
     "execution_count": 84,
     "metadata": {},
     "output_type": "execute_result"
    }
   ],
   "source": [
    "florida_station.fetch_tide_data()"
   ]
  },
  {
   "cell_type": "code",
   "execution_count": 85,
   "metadata": {},
   "outputs": [
    {
     "data": {
      "text/html": [
       "<div>\n",
       "<style scoped>\n",
       "    .dataframe tbody tr th:only-of-type {\n",
       "        vertical-align: middle;\n",
       "    }\n",
       "\n",
       "    .dataframe tbody tr th {\n",
       "        vertical-align: top;\n",
       "    }\n",
       "\n",
       "    .dataframe thead th {\n",
       "        text-align: right;\n",
       "    }\n",
       "</style>\n",
       "<table border=\"1\" class=\"dataframe\">\n",
       "  <thead>\n",
       "    <tr style=\"text-align: right;\">\n",
       "      <th></th>\n",
       "      <th>time</th>\n",
       "      <th>water_level</th>\n",
       "      <th>wind_speed</th>\n",
       "    </tr>\n",
       "  </thead>\n",
       "  <tbody>\n",
       "    <tr>\n",
       "      <th>0</th>\n",
       "      <td>2024-06-09 00:00</td>\n",
       "      <td>0.418</td>\n",
       "      <td>8.16</td>\n",
       "    </tr>\n",
       "    <tr>\n",
       "      <th>1</th>\n",
       "      <td>2024-06-09 00:06</td>\n",
       "      <td>0.431</td>\n",
       "      <td>10.50</td>\n",
       "    </tr>\n",
       "    <tr>\n",
       "      <th>2</th>\n",
       "      <td>2024-06-09 00:12</td>\n",
       "      <td>0.464</td>\n",
       "      <td>7.78</td>\n",
       "    </tr>\n",
       "    <tr>\n",
       "      <th>3</th>\n",
       "      <td>2024-06-09 00:18</td>\n",
       "      <td>0.487</td>\n",
       "      <td>7.00</td>\n",
       "    </tr>\n",
       "    <tr>\n",
       "      <th>4</th>\n",
       "      <td>2024-06-09 00:24</td>\n",
       "      <td>0.506</td>\n",
       "      <td>7.00</td>\n",
       "    </tr>\n",
       "    <tr>\n",
       "      <th>...</th>\n",
       "      <td>...</td>\n",
       "      <td>...</td>\n",
       "      <td>...</td>\n",
       "    </tr>\n",
       "    <tr>\n",
       "      <th>230</th>\n",
       "      <td>2024-06-09 23:00</td>\n",
       "      <td>0.201</td>\n",
       "      <td>NaN</td>\n",
       "    </tr>\n",
       "    <tr>\n",
       "      <th>231</th>\n",
       "      <td>2024-06-09 23:06</td>\n",
       "      <td>0.188</td>\n",
       "      <td>NaN</td>\n",
       "    </tr>\n",
       "    <tr>\n",
       "      <th>232</th>\n",
       "      <td>2024-06-09 23:12</td>\n",
       "      <td>0.185</td>\n",
       "      <td>NaN</td>\n",
       "    </tr>\n",
       "    <tr>\n",
       "      <th>233</th>\n",
       "      <td>2024-06-09 23:18</td>\n",
       "      <td>0.175</td>\n",
       "      <td>NaN</td>\n",
       "    </tr>\n",
       "    <tr>\n",
       "      <th>234</th>\n",
       "      <td>2024-06-09 23:24</td>\n",
       "      <td>0.178</td>\n",
       "      <td>NaN</td>\n",
       "    </tr>\n",
       "  </tbody>\n",
       "</table>\n",
       "<p>235 rows × 3 columns</p>\n",
       "</div>"
      ],
      "text/plain": [
       "                 time  water_level  wind_speed\n",
       "0    2024-06-09 00:00        0.418        8.16\n",
       "1    2024-06-09 00:06        0.431       10.50\n",
       "2    2024-06-09 00:12        0.464        7.78\n",
       "3    2024-06-09 00:18        0.487        7.00\n",
       "4    2024-06-09 00:24        0.506        7.00\n",
       "..                ...          ...         ...\n",
       "230  2024-06-09 23:00        0.201         NaN\n",
       "231  2024-06-09 23:06        0.188         NaN\n",
       "232  2024-06-09 23:12        0.185         NaN\n",
       "233  2024-06-09 23:18        0.175         NaN\n",
       "234  2024-06-09 23:24        0.178         NaN\n",
       "\n",
       "[235 rows x 3 columns]"
      ]
     },
     "execution_count": 85,
     "metadata": {},
     "output_type": "execute_result"
    }
   ],
   "source": [
    "florida_station.combine_data()"
   ]
  },
  {
   "cell_type": "code",
   "execution_count": 80,
   "metadata": {},
   "outputs": [
    {
     "data": {
      "text/plain": [
       "'Tide conditions are not suitable for kayaking right now.'"
      ]
     },
     "execution_count": 80,
     "metadata": {},
     "output_type": "execute_result"
    }
   ],
   "source": [
    "florida_station.go_to_beach('kayaker')"
   ]
  },
  {
   "cell_type": "code",
   "execution_count": 86,
   "metadata": {},
   "outputs": [
    {
     "data": {
      "text/plain": [
       "'Advanced surfers have the skills to handle windy conditions, stay safe!'"
      ]
     },
     "execution_count": 86,
     "metadata": {},
     "output_type": "execute_result"
    }
   ],
   "source": [
    "florida_station.surfer_skill_level('advanced')"
   ]
  },
  {
   "cell_type": "code",
   "execution_count": 82,
   "metadata": {},
   "outputs": [
    {
     "data": {
      "text/plain": [
       "'Clear'"
      ]
     },
     "execution_count": 82,
     "metadata": {},
     "output_type": "execute_result"
    }
   ],
   "source": [
    "florida_station.fetch_water_temperature()"
   ]
  },
  {
   "cell_type": "code",
   "execution_count": 88,
   "metadata": {},
   "outputs": [
    {
     "data": {
      "text/plain": [
       "2.38"
      ]
     },
     "execution_count": 88,
     "metadata": {},
     "output_type": "execute_result"
    }
   ],
   "source": [
    "florida_station.fetch_water_level_summary().iloc[-1]"
   ]
  },
  {
   "cell_type": "markdown",
   "metadata": {},
   "source": [
    "#### Extra Credit (*optional*)\n",
    "\n",
    "Replace all of this text with a brief explanation (~3 sentences) of: \n",
    "1. COGS18 was my first programming course, I had no previous programming experience.\n",
    "\n",
    "2. I had no idea was an API, through self teaching / research I taught myself how to implement an API into my project. I also challenged myself to create six function/methods instead of the required three, using conditionals within my methods in more complex manner than I have in previous assigments and using 'iloc' which was a new concept to me. Overall, besides the API my biggest challenge was taking all the concepts I have learned in COGS18 and effectively putting them together to create this project. \n"
   ]
  }
 ],
 "metadata": {
  "kernelspec": {
   "display_name": "Python 3 (ipykernel)",
   "language": "python",
   "name": "python3"
  },
  "language_info": {
   "codemirror_mode": {
    "name": "ipython",
    "version": 3
   },
   "file_extension": ".py",
   "mimetype": "text/x-python",
   "name": "python",
   "nbconvert_exporter": "python",
   "pygments_lexer": "ipython3",
   "version": "3.9.5"
  }
 },
 "nbformat": 4,
 "nbformat_minor": 2
}
